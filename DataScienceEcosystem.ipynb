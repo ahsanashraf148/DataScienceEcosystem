{
 "cells": [
  {
   "cell_type": "markdown",
   "id": "ea6769d0-7b93-4732-8733-028f84c67bce",
   "metadata": {},
   "source": [
    "# Data Science Tools and Ecosystem"
   ]
  },
  {
   "cell_type": "markdown",
   "id": "c7bb6117-7620-4b2e-bbf5-8da11c964e21",
   "metadata": {},
   "source": [
    "## In this notebook, Data Science Tools and Ecosystem are summarized."
   ]
  },
  {
   "cell_type": "markdown",
   "id": "0c6fa129-6fb2-4ca7-821b-5bbe7bc9a0f2",
   "metadata": {},
   "source": [
    "### **Objectives:**\n",
    "\n",
    "- List popular languages for Data Science\n",
    "- List commonly used libraries by data scientists\n",
    "- List some data science tools\n",
    "- Evaluate arithmetic expressions\n"
   ]
  },
  {
   "cell_type": "markdown",
   "id": "1ca10de7-40e6-4ed6-97be-027e4f9c9190",
   "metadata": {},
   "source": [
    "# Some of the popular languages that Data Scientists use are:\n",
    "\n",
    "1. Python\n",
    "2. R\n",
    "3. SQL"
   ]
  },
  {
   "cell_type": "markdown",
   "id": "d696dda9-0d62-469f-aded-9c274037b992",
   "metadata": {},
   "source": [
    "# Some of the commonly used libraries used by Data Scientists include:\n",
    "1. SciPy\n",
    "2. TensorFlow\n",
    "3. PyTorch"
   ]
  },
  {
   "cell_type": "markdown",
   "id": "41e899b0-8f75-46c3-ada7-9a45aca59f33",
   "metadata": {},
   "source": [
    "# Data Science Tools:\n",
    "\n",
    "| Data Science Tools |\n",
    "|:------------------:|\n",
    "| RStudio |\n",
    "| Apache Spark |\n",
    "| Apache Hadoop |"
   ]
  },
  {
   "cell_type": "markdown",
   "id": "2550dd5a-f93f-4e55-98dd-82e36cde9414",
   "metadata": {},
   "source": [
    "### Below are a few examples of evaluating arithmetic expressions in Python"
   ]
  },
  {
   "cell_type": "code",
   "execution_count": 6,
   "id": "4e307a6f-4638-4c0e-91f6-9d5ee8ce7374",
   "metadata": {},
   "outputs": [
    {
     "data": {
      "text/plain": [
       "17"
      ]
     },
     "execution_count": 6,
     "metadata": {},
     "output_type": "execute_result"
    }
   ],
   "source": [
    "(3*4)+5 # This a simple arithmetic expression to mutiply then add integers"
   ]
  },
  {
   "cell_type": "code",
   "execution_count": 7,
   "id": "94b3038b-6dda-45d4-8547-ac2d137f3f86",
   "metadata": {},
   "outputs": [
    {
     "data": {
      "text/plain": [
       "3.3333333333333335"
      ]
     },
     "execution_count": 7,
     "metadata": {},
     "output_type": "execute_result"
    }
   ],
   "source": [
    "200/60 # This will convert 200 minutes to hours by diving by 60"
   ]
  },
  {
   "cell_type": "markdown",
   "id": "73afa2d3-5d5b-44d0-b7e8-85095a0a71cf",
   "metadata": {},
   "source": [
    "## Author:\n",
    "\n",
    "Ahsan Ashraf"
   ]
  },
  {
   "cell_type": "code",
   "execution_count": null,
   "id": "cd6fe8a9-3461-4f23-afc2-3957a25990da",
   "metadata": {},
   "outputs": [],
   "source": []
  }
 ],
 "metadata": {
  "kernelspec": {
   "display_name": "Python 3 (ipykernel)",
   "language": "python",
   "name": "python3"
  },
  "language_info": {
   "codemirror_mode": {
    "name": "ipython",
    "version": 3
   },
   "file_extension": ".py",
   "mimetype": "text/x-python",
   "name": "python",
   "nbconvert_exporter": "python",
   "pygments_lexer": "ipython3",
   "version": "3.12.0"
  }
 },
 "nbformat": 4,
 "nbformat_minor": 5
}
