{
 "cells": [
  {
   "cell_type": "markdown",
   "id": "312d253a-960c-43fd-ba53-588b7dd2f6af",
   "metadata": {},
   "source": [
    "# AI Lab 1\n",
    "# 21K-3186\n",
    "# Ahsan Ashraf"
   ]
  },
  {
   "cell_type": "markdown",
   "id": "cfbd0894-9f8d-4f29-9d80-4211b8218ed0",
   "metadata": {},
   "source": [
    "### 1) The Fibonacci sequence is a sequence of numbers where the number is the sum of two previous numbers. Write the Fibonacci sequence through recursion of 10.."
   ]
  },
  {
   "cell_type": "code",
   "execution_count": 17,
   "id": "8cb13bb0-1a18-465c-a78b-5a5f9506854b",
   "metadata": {},
   "outputs": [
    {
     "name": "stdout",
     "output_type": "stream",
     "text": [
      "0\n",
      "1\n",
      "1\n",
      "2\n",
      "3\n",
      "5\n",
      "8\n",
      "13\n",
      "21\n",
      "34\n"
     ]
    }
   ],
   "source": [
    "def fibonacci(n):\n",
    "    if n <= 1:\n",
    "        return n\n",
    "    else:\n",
    "        return fibonacci(n-1) + fibonacci(n-2)\n",
    "\n",
    "\n",
    "for i in range(10):\n",
    "    print(fibonacci(i))"
   ]
  },
  {
   "cell_type": "markdown",
   "id": "d482496d-714a-44a9-a2c1-7af15375e0b8",
   "metadata": {},
   "source": [
    "### 2) lst = [1,2,[3,4],[5,[100,200,['hello']],23,11],1,7]  Given the nested list, extract the word “hello”"
   ]
  },
  {
   "cell_type": "code",
   "execution_count": 23,
   "id": "18431f5e-d149-40d0-b01e-695f1f0438b5",
   "metadata": {},
   "outputs": [
    {
     "name": "stdout",
     "output_type": "stream",
     "text": [
      "hello\n"
     ]
    }
   ],
   "source": [
    "lst = [1,2,[3,4],[5,[100,200,['hello']],23,11],1,7]\n",
    "print(lst[3][1][2][0])"
   ]
  },
  {
   "cell_type": "markdown",
   "id": "bed4e9bb-38ce-4015-ade0-350b7ffbbd65",
   "metadata": {},
   "source": [
    "### 3) d = {'k1':[1,2,3,{'tricky':['oh','man','inception',{'target':[1,2,3,'hello']}]}]}  Given the nested dictionary, extract the word hello"
   ]
  },
  {
   "cell_type": "code",
   "execution_count": 35,
   "id": "b047abaa-6d35-4d27-94fa-313d4c04c05a",
   "metadata": {},
   "outputs": [
    {
     "name": "stdout",
     "output_type": "stream",
     "text": [
      "hello\n"
     ]
    }
   ],
   "source": [
    "d = {'k1':[1,2,3,{'tricky':['oh','man','inception',{'target':[1,2,3,'hello']}]}]}\n",
    "\n",
    "print(d['k1'][3]['tricky'][3]['target'][3])"
   ]
  },
  {
   "cell_type": "markdown",
   "id": "e494d601-b219-4a54-a14f-d3fac063235f",
   "metadata": {},
   "source": [
    "### 4) You are in a hurry and the traffic officer stops you. Write a function to return one of 3 possible results: \"No fine\", \"Less Fine\", or \"Car seize\". If your speed is 70 or less, the result is \"No fine\". If speed is between 71 \n",
    "and 80 inclusive, the result is \"Less Fine\". If speed is 81 or more \r\n",
    "result is \"Car seize\". Unless it is your anniversary (encoded as aoolean valvalue in the parameters of the function) -- on your anniversa##   ur\r\n",
    "speed can be 10 higher in all cases"
   ]
  },
  {
   "cell_type": "code",
   "execution_count": 30,
   "id": "4ab8009e-b1c1-401a-a840-587f17264383",
   "metadata": {},
   "outputs": [
    {
     "name": "stdin",
     "output_type": "stream",
     "text": [
      "Enter the speed:  90.1\n",
      "Enter 1 for anniversary or 0 if no anniversary:  0\n"
     ]
    },
    {
     "name": "stdout",
     "output_type": "stream",
     "text": [
      "Car seize\n"
     ]
    }
   ],
   "source": [
    "def speedChecker(speed, is_anniversary):\n",
    "    if is_anniversary:\n",
    "        speed -= 10\n",
    "\n",
    "    if speed <= 70:\n",
    "        return \"No fine\"\n",
    "    elif 71 <= speed <= 80:\n",
    "        return \"Less Fine\"\n",
    "    else:\n",
    "        return \"Car seize\"\n",
    "\n",
    "print(speedChecker(float(input(\"Enter the speed: \")), bool(int(input(\"Enter 1 for anniversary or 0 if no anniversary: \")))))  \n"
   ]
  },
  {
   "cell_type": "markdown",
   "id": "4aade03d-fa0f-4bd1-8f7f-173b1097e1f8",
   "metadata": {},
   "source": [
    "### 5) Determine whether your data contains any duplicate element in a given array of integers. \n",
    "Return true if any value appears twice in the array and return false i \r\n",
    "every element  s\r\n",
    "distinct. Also, remove the duplicates."
   ]
  },
  {
   "cell_type": "code",
   "execution_count": 32,
   "id": "ac0a5ee5-316a-43a5-a76c-809f80b910af",
   "metadata": {},
   "outputs": [
    {
     "name": "stdout",
     "output_type": "stream",
     "text": [
      "False\n",
      "True\n"
     ]
    }
   ],
   "source": [
    "def checkDuplicates(arr):\n",
    "    s = set()\n",
    "    for num in arr:\n",
    "        if num in s:\n",
    "            return True\n",
    "        s.add(num)\n",
    "    return False\n",
    "\n",
    "arr = [1, 2, 3, 4, 5, 6, 7, 8, 9, 10]\n",
    "print(checkDuplicates(arr))\n",
    "duplicates = [1, 2, 3, 4, 5, 6, 7, 8, 9, 10, 10]\n",
    "print(checkDuplicates(duplicates))\n"
   ]
  },
  {
   "cell_type": "markdown",
   "id": "0c3eac76-b985-4056-a794-d3517ae861fb",
   "metadata": {},
   "source": [
    "### 6) Write a Python program to read a given CSV file as a list."
   ]
  },
  {
   "cell_type": "code",
   "execution_count": 41,
   "id": "5acf18f4-f17a-4d14-bd65-23d8128a63a5",
   "metadata": {},
   "outputs": [
    {
     "name": "stdout",
     "output_type": "stream",
     "text": [
      "Numbers read from the CSV file are:  [1, 2, 3, 4, 5, 6, 7, 8, 9, 10]\n"
     ]
    }
   ],
   "source": [
    "import csv\n",
    "\n",
    "# Creating and entering data in csv\n",
    "with open('numbers.csv', 'w', newline='') as file:\n",
    "    writer = csv.writer(file)\n",
    "    for num in range(1, 11):\n",
    "        writer.writerow([num])\n",
    "\n",
    "# Read the CSV\n",
    "def readCSVasList(f):\n",
    "    data = []\n",
    "    with open(f, newline='') as file:\n",
    "        reader = csv.reader(file)\n",
    "        for row in reader:\n",
    "            data.append(int(row[0]))\n",
    "    return data\n",
    "\n",
    "print(\"Numbers read from the CSV file are: \", readCSVasList('numbers.csv'))\n"
   ]
  },
  {
   "cell_type": "markdown",
   "id": "45d7625a-2a3d-47a5-b677-0b703b10c329",
   "metadata": {},
   "source": [
    "### 7) A user enters any string containing letters and digits both. Calculate the \n",
    "number of letters and digits entered by a user."
   ]
  },
  {
   "cell_type": "code",
   "execution_count": 40,
   "id": "22595465-75a9-4eab-ba6a-002155bf0f15",
   "metadata": {},
   "outputs": [
    {
     "name": "stdin",
     "output_type": "stream",
     "text": [
      "Enter a string containing letters and digits:  Ahsan148\n"
     ]
    },
    {
     "name": "stdout",
     "output_type": "stream",
     "text": [
      "Number of letters are: 5\n",
      "Number of digits are: 3\n"
     ]
    }
   ],
   "source": [
    "def count(s):\n",
    "    nletters = 0\n",
    "    ndigits = 0\n",
    "\n",
    "    for char in s:\n",
    "        if char.isalpha():\n",
    "            nletters += 1\n",
    "        elif char.isdigit():\n",
    "            ndigits += 1\n",
    "\n",
    "    return nletters, ndigits\n",
    "\n",
    "nletters, ndigits = count(input(\"Enter a string containing letters and digits: \"))\n",
    "print(\"Number of letters are:\", nletters)\n",
    "print(\"Number of digits are:\", ndigits)\n"
   ]
  },
  {
   "cell_type": "code",
   "execution_count": null,
   "id": "51b8d28b-ed0f-4c0c-8bc0-0882ea601846",
   "metadata": {},
   "outputs": [],
   "source": []
  }
 ],
 "metadata": {
  "kernelspec": {
   "display_name": "Python 3 (ipykernel)",
   "language": "python",
   "name": "python3"
  },
  "language_info": {
   "codemirror_mode": {
    "name": "ipython",
    "version": 3
   },
   "file_extension": ".py",
   "mimetype": "text/x-python",
   "name": "python",
   "nbconvert_exporter": "python",
   "pygments_lexer": "ipython3",
   "version": "3.12.0"
  }
 },
 "nbformat": 4,
 "nbformat_minor": 5
}
